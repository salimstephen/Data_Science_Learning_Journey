{
 "cells": [
  {
   "cell_type": "markdown",
   "id": "5defaedf-ad6c-46b6-a9dc-84ae14839f17",
   "metadata": {},
   "source": [
    "#  Aliasing and Commenting in SQL\n",
    "\n",
    "###  Learning Objectives\n",
    "In this notebook, we will explore how to make our SQL queries more **readable** and **understandable** by using:\n",
    "\n",
    "- **Aliases** to rename columns and tables for better clarity.\n",
    "- **Comments** to document and explain our SQL code.\n",
    "\n",
    "By the end of this training, you should be able to:\n",
    "1. Assign **aliases** to columns and tables.  \n",
    "2. Use **single-line** and **multi-line (block)** comments in SQL.  \n",
    "3. Differentiate between a **comment** and a **Markdown cell** in a notebook.\n",
    "\n",
    "\n",
    "###  Loading the Sample Database\n",
    "Let’s begin by loading our sample database that we’ll use throughout this exercise.\n"
   ]
  },
  {
   "cell_type": "code",
   "execution_count": 1,
   "id": "e7c31dff-73ec-4ea0-9359-38eaacf2126f",
   "metadata": {},
   "outputs": [],
   "source": [
    "%load_ext sql"
   ]
  },
  {
   "cell_type": "code",
   "execution_count": 2,
   "id": "db6d85c6-8d16-4465-a411-4006074e21a8",
   "metadata": {},
   "outputs": [],
   "source": [
    "%sql sqlite:///chinook.sqlite"
   ]
  },
  {
   "cell_type": "markdown",
   "id": "c28a43e2-cc5c-4828-99e2-3aa58d680c94",
   "metadata": {},
   "source": [
    "##  Aliasing in SQL\n",
    "\n",
    "Before explaining what **aliases** in SQL are and why they are useful, let’s first demonstrate their **necessity**.\n",
    "\n",
    "Suppose we want to find **which customers (name and surname)** and **Sales Support Agents (name and surname)** live in the **same country**.\n",
    "\n",
    "Let’s imagine that **Chinook** was planning a door-to-door marketing campaign for **customers who live in the same country as Chinook employees**, specifically **Canada**.\n",
    "\n",
    "To achieve this, we’ll need to:\n",
    "- Retrieve the `FirstName` and `LastName` columns from both the `customers` and `employees` tables.\n",
    "- Filter where:\n",
    "  - The `Country` in the `customers` table equals `'Canada'`\n",
    "  - The `SupportRepId` in the `customers` table matches the `EmployeeId` in the `employees` table.\n",
    "\n",
    "Let’s first write the query **without aliases** to see how lengthy it becomes.\n"
   ]
  },
  {
   "cell_type": "code",
   "execution_count": 5,
   "id": "387a1c86-0aa6-4d37-8531-9a316b39a973",
   "metadata": {},
   "outputs": [
    {
     "name": "stdout",
     "output_type": "stream",
     "text": [
      " * sqlite:///chinook.sqlite\n",
      "Done.\n"
     ]
    },
    {
     "data": {
      "text/html": [
       "<table>\n",
       "    <tr>\n",
       "        <th>FirstName</th>\n",
       "        <th>LastName</th>\n",
       "        <th>FirstName_1</th>\n",
       "        <th>LastName_1</th>\n",
       "        <th>Country</th>\n",
       "    </tr>\n",
       "    <tr>\n",
       "        <td>François</td>\n",
       "        <td>Tremblay</td>\n",
       "        <td>Jane</td>\n",
       "        <td>Peacock</td>\n",
       "        <td>Canada</td>\n",
       "    </tr>\n",
       "    <tr>\n",
       "        <td>Mark</td>\n",
       "        <td>Philips</td>\n",
       "        <td>Steve</td>\n",
       "        <td>Johnson</td>\n",
       "        <td>Canada</td>\n",
       "    </tr>\n",
       "    <tr>\n",
       "        <td>Jennifer</td>\n",
       "        <td>Peterson</td>\n",
       "        <td>Jane</td>\n",
       "        <td>Peacock</td>\n",
       "        <td>Canada</td>\n",
       "    </tr>\n",
       "    <tr>\n",
       "        <td>Robert</td>\n",
       "        <td>Brown</td>\n",
       "        <td>Jane</td>\n",
       "        <td>Peacock</td>\n",
       "        <td>Canada</td>\n",
       "    </tr>\n",
       "    <tr>\n",
       "        <td>Edward</td>\n",
       "        <td>Francis</td>\n",
       "        <td>Jane</td>\n",
       "        <td>Peacock</td>\n",
       "        <td>Canada</td>\n",
       "    </tr>\n",
       "    <tr>\n",
       "        <td>Martha</td>\n",
       "        <td>Silk</td>\n",
       "        <td>Steve</td>\n",
       "        <td>Johnson</td>\n",
       "        <td>Canada</td>\n",
       "    </tr>\n",
       "    <tr>\n",
       "        <td>Aaron</td>\n",
       "        <td>Mitchell</td>\n",
       "        <td>Margaret</td>\n",
       "        <td>Park</td>\n",
       "        <td>Canada</td>\n",
       "    </tr>\n",
       "    <tr>\n",
       "        <td>Ellie</td>\n",
       "        <td>Sullivan</td>\n",
       "        <td>Jane</td>\n",
       "        <td>Peacock</td>\n",
       "        <td>Canada</td>\n",
       "    </tr>\n",
       "</table>"
      ],
      "text/plain": [
       "[('François', 'Tremblay', 'Jane', 'Peacock', 'Canada'),\n",
       " ('Mark', 'Philips', 'Steve', 'Johnson', 'Canada'),\n",
       " ('Jennifer', 'Peterson', 'Jane', 'Peacock', 'Canada'),\n",
       " ('Robert', 'Brown', 'Jane', 'Peacock', 'Canada'),\n",
       " ('Edward', 'Francis', 'Jane', 'Peacock', 'Canada'),\n",
       " ('Martha', 'Silk', 'Steve', 'Johnson', 'Canada'),\n",
       " ('Aaron', 'Mitchell', 'Margaret', 'Park', 'Canada'),\n",
       " ('Ellie', 'Sullivan', 'Jane', 'Peacock', 'Canada')]"
      ]
     },
     "execution_count": 5,
     "metadata": {},
     "output_type": "execute_result"
    }
   ],
   "source": [
    "%%sql\n",
    "\n",
    "SELECT \n",
    "    customer.FirstName, \n",
    "    customer.LastName, \n",
    "    employee.FirstName, \n",
    "    employee.LastName, \n",
    "    customer.Country\n",
    "FROM \n",
    "    customer\n",
    "JOIN \n",
    "    employee\n",
    "ON \n",
    "    customer.SupportRepId = employee.EmployeeId\n",
    "WHERE \n",
    "    customer.Country = 'Canada';\n"
   ]
  },
  {
   "cell_type": "markdown",
   "id": "3c6f6d5e-66d6-4294-bf3b-a964602505ea",
   "metadata": {},
   "source": [
    "##  Understanding the Need for Aliasing in SQL\n",
    "\n",
    "As we can see, we have two main problems in our previous query:\n",
    "\n",
    "1. The two tables (`customers` and `employees`) have **similar column names** (e.g., `FirstName`, `LastName`), making it **impossible to tell** which data belongs to which table.  \n",
    "2. The query is **long and repetitive**, making it **harder to type and read**.  \n",
    "\n",
    "Additionally, the **SQLite environment** we use will not return columns with identical names. Instead, it automatically renames duplicate columns by appending suffixes like `_1`, `_2`, `_3`, etc.  \n",
    "\n",
    "\n",
    "\n",
    "###  What Is an Alias in SQL?\n",
    "\n",
    "An **alias** is a feature supported by most (if not all) relational database systems.  \n",
    "It allows you to assign a **temporary name** to a **table** or **column**, making your query:\n",
    "\n",
    "- Shorter and cleaner   \n",
    "- Easier to understand   \n",
    "- More professional and readable   \n",
    "\n",
    ">  **Note:**  \n",
    "> Aliases are **temporary** — they only exist for the duration of the current query.  \n",
    "> Once the query finishes executing, the alias is forgotten.\n",
    "\n",
    "\n",
    "\n",
    "###  Syntax of Aliasing\n",
    "\n",
    "To **alias a column**, we use the `AS` keyword:\n",
    "\n",
    "```sql\n",
    "SELECT column_name AS alias_name\n",
    "FROM table_name;\n"
   ]
  },
  {
   "cell_type": "markdown",
   "id": "8d2f3834-fb95-46bd-8cc4-e381a2459239",
   "metadata": {},
   "source": [
    "#  Rewriting Our Query Using Aliases\n",
    "\n",
    "Let’s now rewrite our earlier query using aliases to solve the issues we identified."
   ]
  },
  {
   "cell_type": "code",
   "execution_count": 9,
   "id": "295e2a63-cdf5-4bb7-8640-75bbf6b730c1",
   "metadata": {},
   "outputs": [
    {
     "name": "stdout",
     "output_type": "stream",
     "text": [
      " * sqlite:///chinook.sqlite\n",
      "Done.\n"
     ]
    },
    {
     "data": {
      "text/html": [
       "<table>\n",
       "    <tr>\n",
       "        <th>CustomerFirstName</th>\n",
       "        <th>CustomerLastName</th>\n",
       "        <th>EmployeeFirstName</th>\n",
       "        <th>EmployeeLastName</th>\n",
       "        <th>Country</th>\n",
       "    </tr>\n",
       "    <tr>\n",
       "        <td>François</td>\n",
       "        <td>Tremblay</td>\n",
       "        <td>Jane</td>\n",
       "        <td>Peacock</td>\n",
       "        <td>Canada</td>\n",
       "    </tr>\n",
       "    <tr>\n",
       "        <td>Mark</td>\n",
       "        <td>Philips</td>\n",
       "        <td>Steve</td>\n",
       "        <td>Johnson</td>\n",
       "        <td>Canada</td>\n",
       "    </tr>\n",
       "    <tr>\n",
       "        <td>Jennifer</td>\n",
       "        <td>Peterson</td>\n",
       "        <td>Jane</td>\n",
       "        <td>Peacock</td>\n",
       "        <td>Canada</td>\n",
       "    </tr>\n",
       "    <tr>\n",
       "        <td>Robert</td>\n",
       "        <td>Brown</td>\n",
       "        <td>Jane</td>\n",
       "        <td>Peacock</td>\n",
       "        <td>Canada</td>\n",
       "    </tr>\n",
       "    <tr>\n",
       "        <td>Edward</td>\n",
       "        <td>Francis</td>\n",
       "        <td>Jane</td>\n",
       "        <td>Peacock</td>\n",
       "        <td>Canada</td>\n",
       "    </tr>\n",
       "    <tr>\n",
       "        <td>Martha</td>\n",
       "        <td>Silk</td>\n",
       "        <td>Steve</td>\n",
       "        <td>Johnson</td>\n",
       "        <td>Canada</td>\n",
       "    </tr>\n",
       "    <tr>\n",
       "        <td>Aaron</td>\n",
       "        <td>Mitchell</td>\n",
       "        <td>Margaret</td>\n",
       "        <td>Park</td>\n",
       "        <td>Canada</td>\n",
       "    </tr>\n",
       "    <tr>\n",
       "        <td>Ellie</td>\n",
       "        <td>Sullivan</td>\n",
       "        <td>Jane</td>\n",
       "        <td>Peacock</td>\n",
       "        <td>Canada</td>\n",
       "    </tr>\n",
       "</table>"
      ],
      "text/plain": [
       "[('François', 'Tremblay', 'Jane', 'Peacock', 'Canada'),\n",
       " ('Mark', 'Philips', 'Steve', 'Johnson', 'Canada'),\n",
       " ('Jennifer', 'Peterson', 'Jane', 'Peacock', 'Canada'),\n",
       " ('Robert', 'Brown', 'Jane', 'Peacock', 'Canada'),\n",
       " ('Edward', 'Francis', 'Jane', 'Peacock', 'Canada'),\n",
       " ('Martha', 'Silk', 'Steve', 'Johnson', 'Canada'),\n",
       " ('Aaron', 'Mitchell', 'Margaret', 'Park', 'Canada'),\n",
       " ('Ellie', 'Sullivan', 'Jane', 'Peacock', 'Canada')]"
      ]
     },
     "execution_count": 9,
     "metadata": {},
     "output_type": "execute_result"
    }
   ],
   "source": [
    "\n",
    "\n",
    "%%sql\n",
    "\n",
    "SELECT \n",
    "    c.FirstName AS CustomerFirstName,\n",
    "    c.LastName AS CustomerLastName,\n",
    "    e.FirstName AS EmployeeFirstName,\n",
    "    e.LastName AS EmployeeLastName,\n",
    "    c.Country\n",
    "FROM \n",
    "    customer AS c\n",
    "JOIN \n",
    "    employee AS e\n",
    "ON \n",
    "    c.SupportRepId = e.EmployeeId\n",
    "WHERE \n",
    "    c.Country = 'Canada';\n"
   ]
  },
  {
   "cell_type": "markdown",
   "id": "02e14f19-1025-4d2f-ace8-b616e14fe32d",
   "metadata": {},
   "source": [
    "###  What We Did\n",
    "\n",
    "- We gave the `customers` table the alias **`c`** and the `employees` table the alias **`e`**.  \n",
    "- We used the `AS` keyword to rename columns to more descriptive names:\n",
    "  - `CustomerFirstName`\n",
    "  - `CustomerLastName`\n",
    "  - `EmployeeFirstName`\n",
    "  - `EmployeeLastName`\n",
    "- This made the query **shorter, cleaner, and easier to read** while clearly showing which data belongs to which table.\n",
    "\n",
    "\n",
    "\n",
    "###  Key Takeaway\n",
    "\n",
    "Aliasing helps:\n",
    "- Avoid column name conflicts between multiple tables.  \n",
    "- Make queries more readable and professional.  \n",
    "- Simplify complex SQL code without affecting the actual database schema.\n"
   ]
  },
  {
   "cell_type": "markdown",
   "id": "b7661333-c369-4d5b-b0a6-6b9c281e27ac",
   "metadata": {},
   "source": [
    "##  Commenting in SQL\n",
    "\n",
    "In a typical database, SQL scripts can become **long and complex**, especially when multiple developers work on the same code base.  \n",
    "**Comments** help make SQL code **more readable, maintainable, and understandable**. They also allow us to **document the purpose** of queries or temporarily disable parts of a script.\n",
    "\n",
    "### Why Use SQL Comments?\n",
    "- Explain the intent of a query.\n",
    "- Keep track of changes and updates in scripts.\n",
    "- Temporarily prevent execution of certain parts of the code.\n",
    "- Make collaboration easier in team projects.\n",
    "\n",
    "\n",
    "### Types of SQL Comments\n",
    "\n",
    "1. **Single-line Comments**  \n",
    "   - Implemented with `--`  \n",
    "   - Useful for inline explanations of a query or statement.\n",
    "\n",
    "2. **Multi-line (Block) Comments**  \n",
    "   - Implemented by enclosing code between `/*` and `*/`  \n",
    "   - Useful for commenting out multiple lines or blocks of code temporarily.\n"
   ]
  },
  {
   "cell_type": "code",
   "execution_count": 11,
   "id": "71c5dbf4-dff4-4a8e-9cf2-2ec213858304",
   "metadata": {},
   "outputs": [
    {
     "name": "stdout",
     "output_type": "stream",
     "text": [
      " * sqlite:///chinook.sqlite\n",
      "Done.\n",
      "Done.\n"
     ]
    },
    {
     "data": {
      "text/plain": [
       "[]"
      ]
     },
     "execution_count": 11,
     "metadata": {},
     "output_type": "execute_result"
    }
   ],
   "source": [
    "\n",
    "%%sql\n",
    "\n",
    "-- Single-line comment: Select all customer from Canada\n",
    "\n",
    "SELECT *\n",
    "FROM customer\n",
    "\n",
    "WHERE Country = 'Canada';\n",
    "\n",
    "-- Multi-line comment: \n",
    "/* \n",
    "   The following query joins customers and employees tables\n",
    "   to find which employees support which customers in Canada.\n",
    "   We temporarily disable the WHERE clause to see all customers.\n",
    "*/\n",
    "/*\n",
    "SELECT \n",
    "    c.FirstName AS CustomerFirstName,\n",
    "    c.LastName AS CustomerLastName,\n",
    "    e.FirstName AS EmployeeFirstName,\n",
    "    e.LastName AS EmployeeLastName,\n",
    "    c.Country\n",
    "FROM \n",
    "    customer AS c\n",
    "JOIN \n",
    "    employee AS e\n",
    "ON \n",
    "    c.SupportRepId = e.EmployeeId\n",
    "-- WHERE c.Country = 'Canada';\n",
    "*/\n"
   ]
  },
  {
   "cell_type": "markdown",
   "id": "3d784d37-13c1-4db5-81e3-7eaa64d2280c",
   "metadata": {},
   "source": [
    "###  Key Takeaways\n",
    "\n",
    "- **Single-line comments (`--`)** are great for short explanations next to your SQL statements.  \n",
    "- **Multi-line comments (`/* ... */`)** are useful for:\n",
    "  - Temporarily disabling sections of code.  \n",
    "  - Adding detailed explanations or documentation for multiple lines.  \n",
    "- Comments do **not** affect query execution; SQL ignores them.\n",
    "- Always comment your SQL scripts to make them more **readable** and **maintainable**.\n"
   ]
  },
  {
   "cell_type": "code",
   "execution_count": null,
   "id": "26ebceba-e788-4c75-ac49-77364e37271a",
   "metadata": {},
   "outputs": [],
   "source": []
  }
 ],
 "metadata": {
  "kernelspec": {
   "display_name": "Python (sqlenv)",
   "language": "python",
   "name": "sqlenv"
  },
  "language_info": {
   "codemirror_mode": {
    "name": "ipython",
    "version": 3
   },
   "file_extension": ".py",
   "mimetype": "text/x-python",
   "name": "python",
   "nbconvert_exporter": "python",
   "pygments_lexer": "ipython3",
   "version": "3.10.18"
  }
 },
 "nbformat": 4,
 "nbformat_minor": 5
}
