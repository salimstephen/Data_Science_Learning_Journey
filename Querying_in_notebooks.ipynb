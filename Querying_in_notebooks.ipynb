{
 "cells": [
  {
   "cell_type": "markdown",
   "id": "520020e4-0c6e-48a9-9315-839760bc8063",
   "metadata": {},
   "source": [
    "# Querying in Notebooks: Northwind Database Exploration\n",
    "\n",
    "**© ExploreAI Academy**\n",
    "\n",
    "\n",
    "\n",
    "## Overview\n",
    "\n",
    "In this exercise, we will query a sample SQLite database file for a retail company called **Northwind** to gain insights into their data. Ensure that you have downloaded the database file `Northwind.db`.\n",
    "\n",
    "\n",
    "\n",
    "## Learning Objectives\n",
    "\n",
    "By the end of this exercise, you should be able to:\n",
    "\n",
    "1. Use basic `SELECT` statements to retrieve specific data from a database.\n",
    "2. Use the `WHERE` clause to filter data based on certain conditions.\n",
    "3. Combine multiple conditions using logical operators such as `AND` and `OR`.\n",
    "4. Use different logical operators to get or exclude specific values in a table, including the use of `IN` for multiple values.\n",
    "\n",
    "\n",
    "\n",
    "## Getting Started\n",
    "\n",
    "Before writing queries, we first need to **connect to the Northwind SQLite database** and explore its tables.\n",
    "\n",
    "```python\n",
    "import sqlite3\n",
    "import pandas as pd\n",
    "\n",
    "# Connect to the Northwind database\n",
    "conn = sqlite3.connect(\"Northwind.db\")\n",
    "\n",
    "# List all tables in the database\n",
    "tables = pd.read_sql_query(\"SELECT name FROM sqlite_master WHERE type='table';\", conn)\n",
    "tables\n"
   ]
  },
  {
   "cell_type": "code",
   "execution_count": 1,
   "id": "dd6890e0-d025-44bd-994a-0f54e7c27deb",
   "metadata": {},
   "outputs": [],
   "source": [
    "%load_ext sql"
   ]
  },
  {
   "cell_type": "code",
   "execution_count": 2,
   "id": "8fc134ce-8fed-4417-a591-7e9a5966a3fc",
   "metadata": {},
   "outputs": [],
   "source": [
    "%sql sqlite:///Northwind.db"
   ]
  },
  {
   "cell_type": "markdown",
   "id": "eb6c1bad-2c9f-42cb-ab52-62514dd45cf1",
   "metadata": {},
   "source": [
    "## Exercise 1: Customers from Germany\n",
    "\n",
    "**Objective:**  \n",
    "Retrieve the names of all customers located in **Germany** from the Northwind database.\n",
    "\n",
    "**Approach:**  \n",
    "We will use a `SELECT` statement with a `WHERE` clause to filter customers based on their `Country`.\n"
   ]
  },
  {
   "cell_type": "code",
   "execution_count": 12,
   "id": "eb95af1e-8dc5-4c3c-8f55-a9936dd6ddab",
   "metadata": {},
   "outputs": [
    {
     "data": {
      "text/plain": [
       "'C:\\\\Users\\\\Administrator'"
      ]
     },
     "execution_count": 12,
     "metadata": {},
     "output_type": "execute_result"
    }
   ],
   "source": [
    "import os\n",
    "os.getcwd()\n"
   ]
  },
  {
   "cell_type": "code",
   "execution_count": 13,
   "id": "805f2aa0-cdd6-4028-b0b5-31a7a19c0694",
   "metadata": {},
   "outputs": [
    {
     "name": "stdout",
     "output_type": "stream",
     "text": [
      "Done.\n"
     ]
    },
    {
     "data": {
      "text/html": [
       "<table>\n",
       "    <tr>\n",
       "        <th>name</th>\n",
       "    </tr>\n",
       "</table>"
      ],
      "text/plain": [
       "[]"
      ]
     },
     "execution_count": 13,
     "metadata": {},
     "output_type": "execute_result"
    }
   ],
   "source": [
    "%%sql sqlite:///C:/Users/Administrator/Northwind.db\n",
    "SELECT name\n",
    "FROM sqlite_master\n",
    "WHERE type='table';\n"
   ]
  },
  {
   "cell_type": "code",
   "execution_count": null,
   "id": "bd8de246-a239-4e3d-bb35-5a21487f96c3",
   "metadata": {},
   "outputs": [],
   "source": []
  }
 ],
 "metadata": {
  "kernelspec": {
   "display_name": "Python (sqlenv)",
   "language": "python",
   "name": "sqlenv"
  },
  "language_info": {
   "codemirror_mode": {
    "name": "ipython",
    "version": 3
   },
   "file_extension": ".py",
   "mimetype": "text/x-python",
   "name": "python",
   "nbconvert_exporter": "python",
   "pygments_lexer": "ipython3",
   "version": "3.10.18"
  }
 },
 "nbformat": 4,
 "nbformat_minor": 5
}
